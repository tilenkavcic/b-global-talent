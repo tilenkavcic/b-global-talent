{
 "cells": [
  {
   "cell_type": "code",
   "execution_count": 93,
   "outputs": [],
   "source": [
    "import numpy as np\n",
    "import requests\n",
    "import pandas as pd\n",
    "import os"
   ],
   "metadata": {
    "collapsed": false,
    "ExecuteTime": {
     "end_time": "2023-11-23T16:51:35.292666600Z",
     "start_time": "2023-11-23T16:51:35.260543800Z"
    }
   },
   "id": "6331bec3c9d6c64c"
  },
  {
   "cell_type": "code",
   "execution_count": 94,
   "outputs": [],
   "source": [
    "def make_df(resp):\n",
    "    lst = []\n",
    "    for day in resp.json():\n",
    "        new_row = {\n",
    "            \"Province\": day.get(\"provincia\"),\n",
    "            \"Date\": day.get(\"fecha\"),\n",
    "            \"Wind\": day.get(\"velmedia\"),\n",
    "            \"Max_tmp\": day.get(\"tmax\"),\n",
    "            \"Sun\": day.get(\"sol\"),\n",
    "            \"Min_tmp\": day.get(\"tmin\"),\n",
    "            \"Mean_tmp\": day.get(\"tmed\"), \"Rain\": day.get(\"prec\"), \"presMax\": day.get(\"presMax\"),\n",
    "            \"presMin\": day.get(\"presMin\")}\n",
    "        lst.append(new_row)\n",
    "\n",
    "    df = pd.DataFrame(lst)\n",
    "    return df"
   ],
   "metadata": {
    "collapsed": false,
    "ExecuteTime": {
     "end_time": "2023-11-23T16:51:35.631526400Z",
     "start_time": "2023-11-23T16:51:35.598409Z"
    }
   },
   "id": "7acaf202f9df4bab"
  },
  {
   "cell_type": "code",
   "execution_count": 95,
   "outputs": [],
   "source": [
    "def process_df(df):\n",
    "    df[\"Wind\"] = df[\"Wind\"].str.replace(',', '.').astype(float)\n",
    "    df[\"Max_tmp\"] = df[\"Max_tmp\"].str.replace(',', '.').astype(float)\n",
    "    df[\"Min_tmp\"] = df[\"Min_tmp\"].str.replace(',', '.').astype(float)\n",
    "    df[\"Mean_tmp\"] = df[\"Mean_tmp\"].str.replace(',', '.').astype(float)\n",
    "    df[\"presMax\"] = df[\"presMax\"].str.replace(',', '.').astype(float)\n",
    "    df[\"presMin\"] = df[\"presMin\"].str.replace(',', '.').astype(float)\n",
    "    df[\"Sun\"] = df[\"Sun\"].str.replace(',', '.').astype(float)\n",
    "\n",
    "    df[\"Rain\"] = df[\"Rain\"].str.replace('Ip', '0')\n",
    "    df[\"Rain\"] = df[\"Rain\"].str.replace(',', '.').astype(float)\n",
    "\n",
    "    df[\"Date\"] = pd.to_datetime(df[\"Date\"])\n",
    "\n",
    "    df = df.replace(to_replace=np.NaN, method='ffill')\n",
    "\n",
    "    return df"
   ],
   "metadata": {
    "collapsed": false,
    "ExecuteTime": {
     "end_time": "2023-11-23T16:51:36.214718800Z",
     "start_time": "2023-11-23T16:51:36.198226800Z"
    }
   },
   "id": "4632f37d64f4cbae"
  },
  {
   "cell_type": "code",
   "execution_count": null,
   "outputs": [],
   "source": [
    "urls = {\n",
    "    \"Barcelona\": \"https://opendata.aemet.es/opendata/api/valores/climatologicos/diarios/datos/fechaini/2023-01-01T00:00:00UTC/fechafin/2023-10-31T23:59:59UTC/estacion/0076/?api_key=\" + os.environ.get(\n",
    "        \"API_aemet\"),\n",
    "    \"Madrid\": \"https://opendata.aemet.es/opendata/api/valores/climatologicos/diarios/datos/fechaini/2023-01-01T00:00:00UTC/fechafin/2023-10-31T23:59:59UTC/estacion/3129/?api_key=\" + os.environ.get(\n",
    "        \"API_aemet\"),\n",
    "    \"Sevilla\": \"https://opendata.aemet.es/opendata/api/valores/climatologicos/diarios/datos/fechaini/2023-01-01T00:00:00UTC/fechafin/2023-10-31T23:59:59UTC/estacion/5783/?api_key=\" + os.environ.get(\n",
    "        \"API_aemet\"),\n",
    "    \"Bilbao\": \"https://opendata.aemet.es/opendata/api/valores/climatologicos/diarios/datos/fechaini/2023-01-01T00:00:00UTC/fechafin/2023-10-31T23:59:59UTC/estacion/1082/?api_key=\" + os.environ.get(\n",
    "        \"API_aemet\"),\n",
    "    \"A coruna\": \"https://opendata.aemet.es/opendata/api/valores/climatologicos/diarios/datos/fechaini/2023-01-01T00:00:00UTC/fechafin/2023-10-31T23:59:59UTC/estacion/1387E/?api_key=\" + os.environ.get(\n",
    "        \"API_aemet\"),\n",
    "    \"Murcia\": \"https://opendata.aemet.es/opendata/api/valores/climatologicos/diarios/datos/fechaini/2023-01-01T00:00:00UTC/fechafin/2023-10-31T23:59:59UTC/estacion/7031X/?api_key=\" + os.environ.get(\n",
    "        \"API_aemet\"),\n",
    "}\n",
    "\n",
    "for name in urls:\n",
    "    resp = requests.get(urls[name])\n",
    "    resp = resp.json()\n",
    "    url2 = resp[\"datos\"]\n",
    "    resp = requests.get(url2)\n",
    "    df = make_df(resp)\n",
    "    df = process_df(df)\n",
    "    df.to_pickle(\"data/\" + name + \"_hist.pkl\")\n",
    "    df.to_csv(\"data/\" + name + \"_hist.csv\")"
   ],
   "metadata": {
    "collapsed": false
   },
   "id": "fa6aefe29b7864f0"
  },
  {
   "cell_type": "markdown",
   "source": [
    "# Combine DFs"
   ],
   "metadata": {
    "collapsed": false
   },
   "id": "ac869c352132a884"
  },
  {
   "cell_type": "code",
   "execution_count": 97,
   "outputs": [
    {
     "data": {
      "text/plain": "          Date  Wind  Max_tmp  Min_tmp  Mean_tmp  Rain   Sun  presMax  \\\n0   2023-01-01   2.8     15.9      8.6      12.2   0.0   0.7   1026.8   \n1   2023-01-02   3.3     15.0      7.0      11.0   0.0   0.2   1026.3   \n2   2023-01-03   2.5     17.6      8.2      12.9   0.0   1.8   1032.0   \n3   2023-01-04   2.8     16.1      7.5      11.8   0.0   5.4   1033.5   \n4   2023-01-05   3.9     15.6      5.7      10.6   0.0   5.4   1031.5   \n..         ...   ...      ...      ...       ...   ...   ...      ...   \n299 2023-10-27   2.8     25.0     13.0      19.0   0.0   2.9   1013.6   \n300 2023-10-28   3.1     23.7     10.0      16.8   0.0  10.4   1013.7   \n301 2023-10-29   3.6     24.6      9.5      17.0   0.1   8.6   1011.0   \n302 2023-10-30   5.0     23.3     14.6      19.0   0.0   7.9   1015.2   \n303 2023-10-31   1.9     20.5     12.5      16.5   0.0   0.7   1018.0   \n\n     presMin       City  \n0     1023.9  Barcelona  \n1     1022.8  Barcelona  \n2     1025.9  Barcelona  \n3     1031.2  Barcelona  \n4     1024.8  Barcelona  \n..       ...        ...  \n299   1008.3     Murcia  \n300   1010.0     Murcia  \n301   1006.8     Murcia  \n302   1005.4     Murcia  \n303   1015.2     Murcia  \n\n[1824 rows x 10 columns]",
      "text/html": "<div>\n<style scoped>\n    .dataframe tbody tr th:only-of-type {\n        vertical-align: middle;\n    }\n\n    .dataframe tbody tr th {\n        vertical-align: top;\n    }\n\n    .dataframe thead th {\n        text-align: right;\n    }\n</style>\n<table border=\"1\" class=\"dataframe\">\n  <thead>\n    <tr style=\"text-align: right;\">\n      <th></th>\n      <th>Date</th>\n      <th>Wind</th>\n      <th>Max_tmp</th>\n      <th>Min_tmp</th>\n      <th>Mean_tmp</th>\n      <th>Rain</th>\n      <th>Sun</th>\n      <th>presMax</th>\n      <th>presMin</th>\n      <th>City</th>\n    </tr>\n  </thead>\n  <tbody>\n    <tr>\n      <th>0</th>\n      <td>2023-01-01</td>\n      <td>2.8</td>\n      <td>15.9</td>\n      <td>8.6</td>\n      <td>12.2</td>\n      <td>0.0</td>\n      <td>0.7</td>\n      <td>1026.8</td>\n      <td>1023.9</td>\n      <td>Barcelona</td>\n    </tr>\n    <tr>\n      <th>1</th>\n      <td>2023-01-02</td>\n      <td>3.3</td>\n      <td>15.0</td>\n      <td>7.0</td>\n      <td>11.0</td>\n      <td>0.0</td>\n      <td>0.2</td>\n      <td>1026.3</td>\n      <td>1022.8</td>\n      <td>Barcelona</td>\n    </tr>\n    <tr>\n      <th>2</th>\n      <td>2023-01-03</td>\n      <td>2.5</td>\n      <td>17.6</td>\n      <td>8.2</td>\n      <td>12.9</td>\n      <td>0.0</td>\n      <td>1.8</td>\n      <td>1032.0</td>\n      <td>1025.9</td>\n      <td>Barcelona</td>\n    </tr>\n    <tr>\n      <th>3</th>\n      <td>2023-01-04</td>\n      <td>2.8</td>\n      <td>16.1</td>\n      <td>7.5</td>\n      <td>11.8</td>\n      <td>0.0</td>\n      <td>5.4</td>\n      <td>1033.5</td>\n      <td>1031.2</td>\n      <td>Barcelona</td>\n    </tr>\n    <tr>\n      <th>4</th>\n      <td>2023-01-05</td>\n      <td>3.9</td>\n      <td>15.6</td>\n      <td>5.7</td>\n      <td>10.6</td>\n      <td>0.0</td>\n      <td>5.4</td>\n      <td>1031.5</td>\n      <td>1024.8</td>\n      <td>Barcelona</td>\n    </tr>\n    <tr>\n      <th>...</th>\n      <td>...</td>\n      <td>...</td>\n      <td>...</td>\n      <td>...</td>\n      <td>...</td>\n      <td>...</td>\n      <td>...</td>\n      <td>...</td>\n      <td>...</td>\n      <td>...</td>\n    </tr>\n    <tr>\n      <th>299</th>\n      <td>2023-10-27</td>\n      <td>2.8</td>\n      <td>25.0</td>\n      <td>13.0</td>\n      <td>19.0</td>\n      <td>0.0</td>\n      <td>2.9</td>\n      <td>1013.6</td>\n      <td>1008.3</td>\n      <td>Murcia</td>\n    </tr>\n    <tr>\n      <th>300</th>\n      <td>2023-10-28</td>\n      <td>3.1</td>\n      <td>23.7</td>\n      <td>10.0</td>\n      <td>16.8</td>\n      <td>0.0</td>\n      <td>10.4</td>\n      <td>1013.7</td>\n      <td>1010.0</td>\n      <td>Murcia</td>\n    </tr>\n    <tr>\n      <th>301</th>\n      <td>2023-10-29</td>\n      <td>3.6</td>\n      <td>24.6</td>\n      <td>9.5</td>\n      <td>17.0</td>\n      <td>0.1</td>\n      <td>8.6</td>\n      <td>1011.0</td>\n      <td>1006.8</td>\n      <td>Murcia</td>\n    </tr>\n    <tr>\n      <th>302</th>\n      <td>2023-10-30</td>\n      <td>5.0</td>\n      <td>23.3</td>\n      <td>14.6</td>\n      <td>19.0</td>\n      <td>0.0</td>\n      <td>7.9</td>\n      <td>1015.2</td>\n      <td>1005.4</td>\n      <td>Murcia</td>\n    </tr>\n    <tr>\n      <th>303</th>\n      <td>2023-10-31</td>\n      <td>1.9</td>\n      <td>20.5</td>\n      <td>12.5</td>\n      <td>16.5</td>\n      <td>0.0</td>\n      <td>0.7</td>\n      <td>1018.0</td>\n      <td>1015.2</td>\n      <td>Murcia</td>\n    </tr>\n  </tbody>\n</table>\n<p>1824 rows × 10 columns</p>\n</div>"
     },
     "execution_count": 97,
     "metadata": {},
     "output_type": "execute_result"
    }
   ],
   "source": [
    "# combine all dataframes\n",
    "\n",
    "for name in urls:\n",
    "    df = pd.read_pickle(name + \"_hist.pkl\")\n",
    "    df = df[[\"Date\", \"Wind\", \"Max_tmp\", \"Min_tmp\", \"Mean_tmp\", \"Rain\", \"Sun\", \"presMax\", \"presMin\"]]\n",
    "    df[\"City\"] = name\n",
    "    if name == \"Barcelona\":\n",
    "        df_wide = df\n",
    "    else:\n",
    "        df_wide = pd.concat([df_wide, df])\n",
    "\n",
    "df_wide"
   ],
   "metadata": {
    "collapsed": false,
    "ExecuteTime": {
     "end_time": "2023-11-23T16:51:43.643318900Z",
     "start_time": "2023-11-23T16:51:43.598273Z"
    }
   },
   "id": "c458877e78fff0b0"
  },
  {
   "cell_type": "code",
   "execution_count": 98,
   "outputs": [
    {
     "data": {
      "text/plain": "        Date  Wind  Max_tmp  Min_tmp  Mean_tmp  Rain  Sun  presMax  presMin  \\\n0 2023-01-01   2.8     15.9      8.6      12.2   0.0  0.7   1026.8   1023.9   \n0 2023-01-01   1.7     16.4      3.9      10.2   0.1  3.3    958.5    952.6   \n0 2023-01-01   1.4     16.4      6.7      11.6   6.0  2.4   1022.0   1018.2   \n0 2023-01-01   5.6     25.1     13.4      19.2   5.1  5.3   1014.9   1008.5   \n0 2023-01-01   3.6     13.9      8.1      11.0  15.1  0.0   1007.8    997.0   \n0 2023-01-01   1.7     16.8      4.7      10.8   0.0  5.8   1027.0   1023.0   \n\n        City  \n0  Barcelona  \n0     Madrid  \n0    Sevilla  \n0     Bilbao  \n0   A coruna  \n0     Murcia  ",
      "text/html": "<div>\n<style scoped>\n    .dataframe tbody tr th:only-of-type {\n        vertical-align: middle;\n    }\n\n    .dataframe tbody tr th {\n        vertical-align: top;\n    }\n\n    .dataframe thead th {\n        text-align: right;\n    }\n</style>\n<table border=\"1\" class=\"dataframe\">\n  <thead>\n    <tr style=\"text-align: right;\">\n      <th></th>\n      <th>Date</th>\n      <th>Wind</th>\n      <th>Max_tmp</th>\n      <th>Min_tmp</th>\n      <th>Mean_tmp</th>\n      <th>Rain</th>\n      <th>Sun</th>\n      <th>presMax</th>\n      <th>presMin</th>\n      <th>City</th>\n    </tr>\n  </thead>\n  <tbody>\n    <tr>\n      <th>0</th>\n      <td>2023-01-01</td>\n      <td>2.8</td>\n      <td>15.9</td>\n      <td>8.6</td>\n      <td>12.2</td>\n      <td>0.0</td>\n      <td>0.7</td>\n      <td>1026.8</td>\n      <td>1023.9</td>\n      <td>Barcelona</td>\n    </tr>\n    <tr>\n      <th>0</th>\n      <td>2023-01-01</td>\n      <td>1.7</td>\n      <td>16.4</td>\n      <td>3.9</td>\n      <td>10.2</td>\n      <td>0.1</td>\n      <td>3.3</td>\n      <td>958.5</td>\n      <td>952.6</td>\n      <td>Madrid</td>\n    </tr>\n    <tr>\n      <th>0</th>\n      <td>2023-01-01</td>\n      <td>1.4</td>\n      <td>16.4</td>\n      <td>6.7</td>\n      <td>11.6</td>\n      <td>6.0</td>\n      <td>2.4</td>\n      <td>1022.0</td>\n      <td>1018.2</td>\n      <td>Sevilla</td>\n    </tr>\n    <tr>\n      <th>0</th>\n      <td>2023-01-01</td>\n      <td>5.6</td>\n      <td>25.1</td>\n      <td>13.4</td>\n      <td>19.2</td>\n      <td>5.1</td>\n      <td>5.3</td>\n      <td>1014.9</td>\n      <td>1008.5</td>\n      <td>Bilbao</td>\n    </tr>\n    <tr>\n      <th>0</th>\n      <td>2023-01-01</td>\n      <td>3.6</td>\n      <td>13.9</td>\n      <td>8.1</td>\n      <td>11.0</td>\n      <td>15.1</td>\n      <td>0.0</td>\n      <td>1007.8</td>\n      <td>997.0</td>\n      <td>A coruna</td>\n    </tr>\n    <tr>\n      <th>0</th>\n      <td>2023-01-01</td>\n      <td>1.7</td>\n      <td>16.8</td>\n      <td>4.7</td>\n      <td>10.8</td>\n      <td>0.0</td>\n      <td>5.8</td>\n      <td>1027.0</td>\n      <td>1023.0</td>\n      <td>Murcia</td>\n    </tr>\n  </tbody>\n</table>\n</div>"
     },
     "execution_count": 98,
     "metadata": {},
     "output_type": "execute_result"
    }
   ],
   "source": [
    "df_wide[df_wide[\"Date\"] == \"2023-01-01\"]"
   ],
   "metadata": {
    "collapsed": false,
    "ExecuteTime": {
     "end_time": "2023-11-23T16:51:46.873865600Z",
     "start_time": "2023-11-23T16:51:46.833993600Z"
    }
   },
   "id": "a3f3f2a93a85c40f"
  },
  {
   "cell_type": "code",
   "execution_count": 99,
   "outputs": [
    {
     "data": {
      "text/plain": "                Wind    Max_tmp    Min_tmp   Mean_tmp      Rain       Sun  \\\nDate                                                                        \n2023-01-01  2.800000  17.416667   7.566667  12.500000  4.383333  2.916667   \n2023-01-02  2.366667  14.450000   6.916667  10.666667  0.816667  2.883333   \n2023-01-03  2.433333  15.683333   5.383333  10.533333  0.000000  6.033333   \n2023-01-04  2.266667  16.366667   6.016667  11.183333  0.000000  6.066667   \n2023-01-05  2.083333  15.900000   4.750000  10.316667  0.000000  7.416667   \n...              ...        ...        ...        ...       ...       ...   \n2023-10-27  4.850000  21.116667  12.466667  16.783333  0.450000  4.516667   \n2023-10-28  4.916667  21.150000  13.500000  17.316667  2.850000  5.533333   \n2023-10-29  4.400000  20.916667  12.816667  16.866667  5.066667  3.750000   \n2023-10-30  4.733333  20.100000  12.116667  16.116667  1.133333  6.166667   \n2023-10-31  2.850000  18.233333  10.816667  14.516667  3.033333  3.166667   \n\n                presMax      presMin  \nDate                                  \n2023-01-01  1009.500000  1003.866667  \n2023-01-02  1013.050000  1006.383333  \n2023-01-03  1017.916667  1012.700000  \n2023-01-04  1019.733333  1017.050000  \n2023-01-05  1017.350000  1011.383333  \n...                 ...          ...  \n2023-10-27   996.283333   992.183333  \n2023-10-28   995.216667   990.600000  \n2023-10-29   992.350000   988.483333  \n2023-10-30   998.733333   987.800000  \n2023-10-31  1001.816667   997.150000  \n\n[304 rows x 8 columns]",
      "text/html": "<div>\n<style scoped>\n    .dataframe tbody tr th:only-of-type {\n        vertical-align: middle;\n    }\n\n    .dataframe tbody tr th {\n        vertical-align: top;\n    }\n\n    .dataframe thead th {\n        text-align: right;\n    }\n</style>\n<table border=\"1\" class=\"dataframe\">\n  <thead>\n    <tr style=\"text-align: right;\">\n      <th></th>\n      <th>Wind</th>\n      <th>Max_tmp</th>\n      <th>Min_tmp</th>\n      <th>Mean_tmp</th>\n      <th>Rain</th>\n      <th>Sun</th>\n      <th>presMax</th>\n      <th>presMin</th>\n    </tr>\n    <tr>\n      <th>Date</th>\n      <th></th>\n      <th></th>\n      <th></th>\n      <th></th>\n      <th></th>\n      <th></th>\n      <th></th>\n      <th></th>\n    </tr>\n  </thead>\n  <tbody>\n    <tr>\n      <th>2023-01-01</th>\n      <td>2.800000</td>\n      <td>17.416667</td>\n      <td>7.566667</td>\n      <td>12.500000</td>\n      <td>4.383333</td>\n      <td>2.916667</td>\n      <td>1009.500000</td>\n      <td>1003.866667</td>\n    </tr>\n    <tr>\n      <th>2023-01-02</th>\n      <td>2.366667</td>\n      <td>14.450000</td>\n      <td>6.916667</td>\n      <td>10.666667</td>\n      <td>0.816667</td>\n      <td>2.883333</td>\n      <td>1013.050000</td>\n      <td>1006.383333</td>\n    </tr>\n    <tr>\n      <th>2023-01-03</th>\n      <td>2.433333</td>\n      <td>15.683333</td>\n      <td>5.383333</td>\n      <td>10.533333</td>\n      <td>0.000000</td>\n      <td>6.033333</td>\n      <td>1017.916667</td>\n      <td>1012.700000</td>\n    </tr>\n    <tr>\n      <th>2023-01-04</th>\n      <td>2.266667</td>\n      <td>16.366667</td>\n      <td>6.016667</td>\n      <td>11.183333</td>\n      <td>0.000000</td>\n      <td>6.066667</td>\n      <td>1019.733333</td>\n      <td>1017.050000</td>\n    </tr>\n    <tr>\n      <th>2023-01-05</th>\n      <td>2.083333</td>\n      <td>15.900000</td>\n      <td>4.750000</td>\n      <td>10.316667</td>\n      <td>0.000000</td>\n      <td>7.416667</td>\n      <td>1017.350000</td>\n      <td>1011.383333</td>\n    </tr>\n    <tr>\n      <th>...</th>\n      <td>...</td>\n      <td>...</td>\n      <td>...</td>\n      <td>...</td>\n      <td>...</td>\n      <td>...</td>\n      <td>...</td>\n      <td>...</td>\n    </tr>\n    <tr>\n      <th>2023-10-27</th>\n      <td>4.850000</td>\n      <td>21.116667</td>\n      <td>12.466667</td>\n      <td>16.783333</td>\n      <td>0.450000</td>\n      <td>4.516667</td>\n      <td>996.283333</td>\n      <td>992.183333</td>\n    </tr>\n    <tr>\n      <th>2023-10-28</th>\n      <td>4.916667</td>\n      <td>21.150000</td>\n      <td>13.500000</td>\n      <td>17.316667</td>\n      <td>2.850000</td>\n      <td>5.533333</td>\n      <td>995.216667</td>\n      <td>990.600000</td>\n    </tr>\n    <tr>\n      <th>2023-10-29</th>\n      <td>4.400000</td>\n      <td>20.916667</td>\n      <td>12.816667</td>\n      <td>16.866667</td>\n      <td>5.066667</td>\n      <td>3.750000</td>\n      <td>992.350000</td>\n      <td>988.483333</td>\n    </tr>\n    <tr>\n      <th>2023-10-30</th>\n      <td>4.733333</td>\n      <td>20.100000</td>\n      <td>12.116667</td>\n      <td>16.116667</td>\n      <td>1.133333</td>\n      <td>6.166667</td>\n      <td>998.733333</td>\n      <td>987.800000</td>\n    </tr>\n    <tr>\n      <th>2023-10-31</th>\n      <td>2.850000</td>\n      <td>18.233333</td>\n      <td>10.816667</td>\n      <td>14.516667</td>\n      <td>3.033333</td>\n      <td>3.166667</td>\n      <td>1001.816667</td>\n      <td>997.150000</td>\n    </tr>\n  </tbody>\n</table>\n<p>304 rows × 8 columns</p>\n</div>"
     },
     "execution_count": 99,
     "metadata": {},
     "output_type": "execute_result"
    }
   ],
   "source": [
    "# group by date and compute median values for columns\n",
    "df_all = df_wide[[\"Date\", \"Wind\", \"Max_tmp\", \"Min_tmp\", \"Mean_tmp\", \"Rain\", \"Sun\", \"presMax\", \"presMin\"]].groupby(\n",
    "    \"Date\").mean()\n",
    "df_all"
   ],
   "metadata": {
    "collapsed": false,
    "ExecuteTime": {
     "end_time": "2023-11-23T16:51:47.930846100Z",
     "start_time": "2023-11-23T16:51:47.862468900Z"
    }
   },
   "id": "e9cad7ed0d8f48ca"
  },
  {
   "cell_type": "markdown",
   "source": [
    "# Get percents"
   ],
   "metadata": {
    "collapsed": false
   },
   "id": "ef76911ec9ac1862"
  },
  {
   "cell_type": "code",
   "execution_count": 100,
   "outputs": [],
   "source": [
    "# url = \"https://apidatos.ree.es/es/datos/generacion/estructura-generacion?start_date=2023-01-01T00:00&end_date=2023-10-31T23:59&time_trunc=day&geo_ids=8741&geo_trunc=electric_system&geo_limit=peninsular\"\n",
    "# resp = requests.get(url)\n",
    "# resp = resp.json()"
   ],
   "metadata": {
    "collapsed": false,
    "ExecuteTime": {
     "end_time": "2023-11-23T16:51:53.334342Z",
     "start_time": "2023-11-23T16:51:53.322028100Z"
    }
   },
   "id": "a069c6c45b48a901"
  },
  {
   "cell_type": "code",
   "execution_count": 101,
   "outputs": [],
   "source": [
    "# lst = []\n",
    "# for day in resp:\n",
    "#     new_row = {\"Province\": day.get(\"provincia\"), \"Date\": day.get(\"fecha\"), \"Max_tmp\": day.get(\"tmax\"),\n",
    "#                \"Sun\": day.get(\"sol\"),\n",
    "#                \"Min_tmp\": day.get(\"tmin\"),\n",
    "#                \"Mean_tmp\": day.get(\"tmed\"), \"Rain\": day.get(\"prec\"), \"presMax\": day.get(\"presMax\"),\n",
    "#                \"presMin\": day.get(\"presMin\")}\n",
    "#     lst.append(new_row)\n",
    "# \n",
    "# df = pd.DataFrame(lst)"
   ],
   "metadata": {
    "collapsed": false,
    "ExecuteTime": {
     "end_time": "2023-11-23T16:51:53.734935500Z",
     "start_time": "2023-11-23T16:51:53.713327500Z"
    }
   },
   "id": "9ef367577d1dfc46"
  },
  {
   "cell_type": "code",
   "execution_count": 102,
   "outputs": [
    {
     "name": "stderr",
     "output_type": "stream",
     "text": [
      "C:\\Users\\tilen\\AppData\\Local\\Temp\\ipykernel_4136\\4294534433.py:15: SettingWithCopyWarning: \n",
      "A value is trying to be set on a copy of a slice from a DataFrame.\n",
      "Try using .loc[row_indexer,col_indexer] = value instead\n",
      "\n",
      "See the caveats in the documentation: https://pandas.pydata.org/pandas-docs/stable/user_guide/indexing.html#returning-a-view-versus-a-copy\n",
      "  df2[\"Solar\"] = df[\"Solar fotovoltaica\"] + df[\"Solar térmica\"]\n"
     ]
    },
    {
     "data": {
      "text/plain": "          Date      Eólica  Solar fotovoltaica  Solar térmica  \\\n0   2023-01-01  160.764699           33.392982       0.811405   \n1   2023-01-02   96.936318           30.595371       0.194716   \n2   2023-01-03   69.070871           52.667047       3.462572   \n3   2023-01-04   65.706889           56.871036       4.732083   \n4   2023-01-05   43.799077           56.868750       5.249039   \n..         ...         ...                 ...            ...   \n299 2023-10-27  353.707500           64.675118       2.089720   \n300 2023-10-28  284.911936           67.054483       3.202960   \n301 2023-10-29  239.709040           50.032991       0.996537   \n302 2023-10-30  301.616857           68.187846       4.255661   \n303 2023-10-31  177.923453           36.451231       0.454865   \n\n     Generación total      Solar  \n0          524.323313  34.204387  \n1          632.047278  30.790087  \n2          667.943963  56.129619  \n3          632.489265  61.603119  \n4          635.988081  62.117789  \n..                ...        ...  \n299        712.637346  66.764838  \n300        620.954273  70.257443  \n301        593.167812  51.029528  \n302        690.266326  72.443507  \n303        631.651687  36.906096  \n\n[304 rows x 6 columns]",
      "text/html": "<div>\n<style scoped>\n    .dataframe tbody tr th:only-of-type {\n        vertical-align: middle;\n    }\n\n    .dataframe tbody tr th {\n        vertical-align: top;\n    }\n\n    .dataframe thead th {\n        text-align: right;\n    }\n</style>\n<table border=\"1\" class=\"dataframe\">\n  <thead>\n    <tr style=\"text-align: right;\">\n      <th></th>\n      <th>Date</th>\n      <th>Eólica</th>\n      <th>Solar fotovoltaica</th>\n      <th>Solar térmica</th>\n      <th>Generación total</th>\n      <th>Solar</th>\n    </tr>\n  </thead>\n  <tbody>\n    <tr>\n      <th>0</th>\n      <td>2023-01-01</td>\n      <td>160.764699</td>\n      <td>33.392982</td>\n      <td>0.811405</td>\n      <td>524.323313</td>\n      <td>34.204387</td>\n    </tr>\n    <tr>\n      <th>1</th>\n      <td>2023-01-02</td>\n      <td>96.936318</td>\n      <td>30.595371</td>\n      <td>0.194716</td>\n      <td>632.047278</td>\n      <td>30.790087</td>\n    </tr>\n    <tr>\n      <th>2</th>\n      <td>2023-01-03</td>\n      <td>69.070871</td>\n      <td>52.667047</td>\n      <td>3.462572</td>\n      <td>667.943963</td>\n      <td>56.129619</td>\n    </tr>\n    <tr>\n      <th>3</th>\n      <td>2023-01-04</td>\n      <td>65.706889</td>\n      <td>56.871036</td>\n      <td>4.732083</td>\n      <td>632.489265</td>\n      <td>61.603119</td>\n    </tr>\n    <tr>\n      <th>4</th>\n      <td>2023-01-05</td>\n      <td>43.799077</td>\n      <td>56.868750</td>\n      <td>5.249039</td>\n      <td>635.988081</td>\n      <td>62.117789</td>\n    </tr>\n    <tr>\n      <th>...</th>\n      <td>...</td>\n      <td>...</td>\n      <td>...</td>\n      <td>...</td>\n      <td>...</td>\n      <td>...</td>\n    </tr>\n    <tr>\n      <th>299</th>\n      <td>2023-10-27</td>\n      <td>353.707500</td>\n      <td>64.675118</td>\n      <td>2.089720</td>\n      <td>712.637346</td>\n      <td>66.764838</td>\n    </tr>\n    <tr>\n      <th>300</th>\n      <td>2023-10-28</td>\n      <td>284.911936</td>\n      <td>67.054483</td>\n      <td>3.202960</td>\n      <td>620.954273</td>\n      <td>70.257443</td>\n    </tr>\n    <tr>\n      <th>301</th>\n      <td>2023-10-29</td>\n      <td>239.709040</td>\n      <td>50.032991</td>\n      <td>0.996537</td>\n      <td>593.167812</td>\n      <td>51.029528</td>\n    </tr>\n    <tr>\n      <th>302</th>\n      <td>2023-10-30</td>\n      <td>301.616857</td>\n      <td>68.187846</td>\n      <td>4.255661</td>\n      <td>690.266326</td>\n      <td>72.443507</td>\n    </tr>\n    <tr>\n      <th>303</th>\n      <td>2023-10-31</td>\n      <td>177.923453</td>\n      <td>36.451231</td>\n      <td>0.454865</td>\n      <td>631.651687</td>\n      <td>36.906096</td>\n    </tr>\n  </tbody>\n</table>\n<p>304 rows × 6 columns</p>\n</div>"
     },
     "execution_count": 102,
     "metadata": {},
     "output_type": "execute_result"
    }
   ],
   "source": [
    "df = pd.read_csv(\"energy_percentages.csv\", sep=\";\")\n",
    "df = df.rename(columns={\"Fecha\": \"Date\"})\n",
    "df[\"Hidráulica\"] = df[\"Hidráulica\"].str.replace(',', '.').astype(float)\n",
    "df[\"Turbinación bombeo\"] = df[\"Turbinación bombeo\"].str.replace(',', '.').astype(float)\n",
    "df[\"Nuclear\"] = df[\"Nuclear\"].str.replace(',', '.').astype(float)\n",
    "df[\"Carbón\"] = df[\"Carbón\"].str.replace(',', '.').astype(float)\n",
    "df[\"Ciclo combinado\"] = df[\"Ciclo combinado\"].str.replace(',', '.').astype(float)\n",
    "df[\"Eólica\"] = df[\"Eólica\"].str.replace(',', '.').astype(float)\n",
    "df[\"Solar fotovoltaica\"] = df[\"Solar fotovoltaica\"].str.replace(',', '.').astype(float)\n",
    "df[\"Solar térmica\"] = df[\"Solar térmica\"].str.replace(',', '.').astype(float)\n",
    "df[\"Generación total\"] = df[\"Generación total\"].str.replace(',', '.').astype(float)\n",
    "\n",
    "df[\"Date\"] = pd.to_datetime(df[\"Date\"], format=\"%d/%m/%Y\")\n",
    "df2 = df[[\"Date\", \"Eólica\", \"Solar fotovoltaica\", \"Solar térmica\", \"Generación total\"]]\n",
    "df2[\"Solar\"] = df[\"Solar fotovoltaica\"] + df[\"Solar térmica\"]\n",
    "df2"
   ],
   "metadata": {
    "collapsed": false,
    "ExecuteTime": {
     "end_time": "2023-11-23T16:51:54.345946800Z",
     "start_time": "2023-11-23T16:51:54.278391600Z"
    }
   },
   "id": "c39f7893bca1ac15"
  },
  {
   "cell_type": "code",
   "execution_count": 103,
   "outputs": [
    {
     "data": {
      "text/plain": "                Wind    Max_tmp    Min_tmp   Mean_tmp      Rain       Sun  \\\nDate                                                                        \n2023-01-01  2.800000  17.416667   7.566667  12.500000  4.383333  2.916667   \n2023-01-02  2.366667  14.450000   6.916667  10.666667  0.816667  2.883333   \n2023-01-03  2.433333  15.683333   5.383333  10.533333  0.000000  6.033333   \n2023-01-04  2.266667  16.366667   6.016667  11.183333  0.000000  6.066667   \n2023-01-05  2.083333  15.900000   4.750000  10.316667  0.000000  7.416667   \n...              ...        ...        ...        ...       ...       ...   \n2023-10-27  4.850000  21.116667  12.466667  16.783333  0.450000  4.516667   \n2023-10-28  4.916667  21.150000  13.500000  17.316667  2.850000  5.533333   \n2023-10-29  4.400000  20.916667  12.816667  16.866667  5.066667  3.750000   \n2023-10-30  4.733333  20.100000  12.116667  16.116667  1.133333  6.166667   \n2023-10-31  2.850000  18.233333  10.816667  14.516667  3.033333  3.166667   \n\n                presMax      presMin      Eólica  Solar fotovoltaica  \\\nDate                                                                   \n2023-01-01  1009.500000  1003.866667  160.764699           33.392982   \n2023-01-02  1013.050000  1006.383333   96.936318           30.595371   \n2023-01-03  1017.916667  1012.700000   69.070871           52.667047   \n2023-01-04  1019.733333  1017.050000   65.706889           56.871036   \n2023-01-05  1017.350000  1011.383333   43.799077           56.868750   \n...                 ...          ...         ...                 ...   \n2023-10-27   996.283333   992.183333  353.707500           64.675118   \n2023-10-28   995.216667   990.600000  284.911936           67.054483   \n2023-10-29   992.350000   988.483333  239.709040           50.032991   \n2023-10-30   998.733333   987.800000  301.616857           68.187846   \n2023-10-31  1001.816667   997.150000  177.923453           36.451231   \n\n            Solar térmica  Generación total      Solar  \nDate                                                    \n2023-01-01       0.811405        524.323313  34.204387  \n2023-01-02       0.194716        632.047278  30.790087  \n2023-01-03       3.462572        667.943963  56.129619  \n2023-01-04       4.732083        632.489265  61.603119  \n2023-01-05       5.249039        635.988081  62.117789  \n...                   ...               ...        ...  \n2023-10-27       2.089720        712.637346  66.764838  \n2023-10-28       3.202960        620.954273  70.257443  \n2023-10-29       0.996537        593.167812  51.029528  \n2023-10-30       4.255661        690.266326  72.443507  \n2023-10-31       0.454865        631.651687  36.906096  \n\n[304 rows x 13 columns]",
      "text/html": "<div>\n<style scoped>\n    .dataframe tbody tr th:only-of-type {\n        vertical-align: middle;\n    }\n\n    .dataframe tbody tr th {\n        vertical-align: top;\n    }\n\n    .dataframe thead th {\n        text-align: right;\n    }\n</style>\n<table border=\"1\" class=\"dataframe\">\n  <thead>\n    <tr style=\"text-align: right;\">\n      <th></th>\n      <th>Wind</th>\n      <th>Max_tmp</th>\n      <th>Min_tmp</th>\n      <th>Mean_tmp</th>\n      <th>Rain</th>\n      <th>Sun</th>\n      <th>presMax</th>\n      <th>presMin</th>\n      <th>Eólica</th>\n      <th>Solar fotovoltaica</th>\n      <th>Solar térmica</th>\n      <th>Generación total</th>\n      <th>Solar</th>\n    </tr>\n    <tr>\n      <th>Date</th>\n      <th></th>\n      <th></th>\n      <th></th>\n      <th></th>\n      <th></th>\n      <th></th>\n      <th></th>\n      <th></th>\n      <th></th>\n      <th></th>\n      <th></th>\n      <th></th>\n      <th></th>\n    </tr>\n  </thead>\n  <tbody>\n    <tr>\n      <th>2023-01-01</th>\n      <td>2.800000</td>\n      <td>17.416667</td>\n      <td>7.566667</td>\n      <td>12.500000</td>\n      <td>4.383333</td>\n      <td>2.916667</td>\n      <td>1009.500000</td>\n      <td>1003.866667</td>\n      <td>160.764699</td>\n      <td>33.392982</td>\n      <td>0.811405</td>\n      <td>524.323313</td>\n      <td>34.204387</td>\n    </tr>\n    <tr>\n      <th>2023-01-02</th>\n      <td>2.366667</td>\n      <td>14.450000</td>\n      <td>6.916667</td>\n      <td>10.666667</td>\n      <td>0.816667</td>\n      <td>2.883333</td>\n      <td>1013.050000</td>\n      <td>1006.383333</td>\n      <td>96.936318</td>\n      <td>30.595371</td>\n      <td>0.194716</td>\n      <td>632.047278</td>\n      <td>30.790087</td>\n    </tr>\n    <tr>\n      <th>2023-01-03</th>\n      <td>2.433333</td>\n      <td>15.683333</td>\n      <td>5.383333</td>\n      <td>10.533333</td>\n      <td>0.000000</td>\n      <td>6.033333</td>\n      <td>1017.916667</td>\n      <td>1012.700000</td>\n      <td>69.070871</td>\n      <td>52.667047</td>\n      <td>3.462572</td>\n      <td>667.943963</td>\n      <td>56.129619</td>\n    </tr>\n    <tr>\n      <th>2023-01-04</th>\n      <td>2.266667</td>\n      <td>16.366667</td>\n      <td>6.016667</td>\n      <td>11.183333</td>\n      <td>0.000000</td>\n      <td>6.066667</td>\n      <td>1019.733333</td>\n      <td>1017.050000</td>\n      <td>65.706889</td>\n      <td>56.871036</td>\n      <td>4.732083</td>\n      <td>632.489265</td>\n      <td>61.603119</td>\n    </tr>\n    <tr>\n      <th>2023-01-05</th>\n      <td>2.083333</td>\n      <td>15.900000</td>\n      <td>4.750000</td>\n      <td>10.316667</td>\n      <td>0.000000</td>\n      <td>7.416667</td>\n      <td>1017.350000</td>\n      <td>1011.383333</td>\n      <td>43.799077</td>\n      <td>56.868750</td>\n      <td>5.249039</td>\n      <td>635.988081</td>\n      <td>62.117789</td>\n    </tr>\n    <tr>\n      <th>...</th>\n      <td>...</td>\n      <td>...</td>\n      <td>...</td>\n      <td>...</td>\n      <td>...</td>\n      <td>...</td>\n      <td>...</td>\n      <td>...</td>\n      <td>...</td>\n      <td>...</td>\n      <td>...</td>\n      <td>...</td>\n      <td>...</td>\n    </tr>\n    <tr>\n      <th>2023-10-27</th>\n      <td>4.850000</td>\n      <td>21.116667</td>\n      <td>12.466667</td>\n      <td>16.783333</td>\n      <td>0.450000</td>\n      <td>4.516667</td>\n      <td>996.283333</td>\n      <td>992.183333</td>\n      <td>353.707500</td>\n      <td>64.675118</td>\n      <td>2.089720</td>\n      <td>712.637346</td>\n      <td>66.764838</td>\n    </tr>\n    <tr>\n      <th>2023-10-28</th>\n      <td>4.916667</td>\n      <td>21.150000</td>\n      <td>13.500000</td>\n      <td>17.316667</td>\n      <td>2.850000</td>\n      <td>5.533333</td>\n      <td>995.216667</td>\n      <td>990.600000</td>\n      <td>284.911936</td>\n      <td>67.054483</td>\n      <td>3.202960</td>\n      <td>620.954273</td>\n      <td>70.257443</td>\n    </tr>\n    <tr>\n      <th>2023-10-29</th>\n      <td>4.400000</td>\n      <td>20.916667</td>\n      <td>12.816667</td>\n      <td>16.866667</td>\n      <td>5.066667</td>\n      <td>3.750000</td>\n      <td>992.350000</td>\n      <td>988.483333</td>\n      <td>239.709040</td>\n      <td>50.032991</td>\n      <td>0.996537</td>\n      <td>593.167812</td>\n      <td>51.029528</td>\n    </tr>\n    <tr>\n      <th>2023-10-30</th>\n      <td>4.733333</td>\n      <td>20.100000</td>\n      <td>12.116667</td>\n      <td>16.116667</td>\n      <td>1.133333</td>\n      <td>6.166667</td>\n      <td>998.733333</td>\n      <td>987.800000</td>\n      <td>301.616857</td>\n      <td>68.187846</td>\n      <td>4.255661</td>\n      <td>690.266326</td>\n      <td>72.443507</td>\n    </tr>\n    <tr>\n      <th>2023-10-31</th>\n      <td>2.850000</td>\n      <td>18.233333</td>\n      <td>10.816667</td>\n      <td>14.516667</td>\n      <td>3.033333</td>\n      <td>3.166667</td>\n      <td>1001.816667</td>\n      <td>997.150000</td>\n      <td>177.923453</td>\n      <td>36.451231</td>\n      <td>0.454865</td>\n      <td>631.651687</td>\n      <td>36.906096</td>\n    </tr>\n  </tbody>\n</table>\n<p>304 rows × 13 columns</p>\n</div>"
     },
     "execution_count": 103,
     "metadata": {},
     "output_type": "execute_result"
    }
   ],
   "source": [
    "df_all_all = df_all.merge(df2, on=\"Date\")\n",
    "df_all_all.set_index(\"Date\", inplace=True)\n",
    "df_all_all.to_pickle(\"data/all_historic_data.pkl\")\n",
    "df_all_all"
   ],
   "metadata": {
    "collapsed": false,
    "ExecuteTime": {
     "end_time": "2023-11-23T16:51:55.300798400Z",
     "start_time": "2023-11-23T16:51:55.236469500Z"
    }
   },
   "id": "eaa4475b10122dae"
  },
  {
   "cell_type": "code",
   "execution_count": 65,
   "outputs": [
    {
     "data": {
      "text/plain": "          Date      Solar        Wind\n0   2023-01-01  34.204387  160.764699\n1   2023-01-02  30.790087   96.936318\n2   2023-01-03  56.129619   69.070871\n3   2023-01-04  61.603119   65.706889\n4   2023-01-05  62.117789   43.799077\n..         ...        ...         ...\n299 2023-10-27  66.764838  353.707500\n300 2023-10-28  70.257443  284.911936\n301 2023-10-29  51.029528  239.709040\n302 2023-10-30  72.443507  301.616857\n303 2023-10-31  36.906096  177.923453\n\n[304 rows x 3 columns]",
      "text/html": "<div>\n<style scoped>\n    .dataframe tbody tr th:only-of-type {\n        vertical-align: middle;\n    }\n\n    .dataframe tbody tr th {\n        vertical-align: top;\n    }\n\n    .dataframe thead th {\n        text-align: right;\n    }\n</style>\n<table border=\"1\" class=\"dataframe\">\n  <thead>\n    <tr style=\"text-align: right;\">\n      <th></th>\n      <th>Date</th>\n      <th>Solar</th>\n      <th>Wind</th>\n    </tr>\n  </thead>\n  <tbody>\n    <tr>\n      <th>0</th>\n      <td>2023-01-01</td>\n      <td>34.204387</td>\n      <td>160.764699</td>\n    </tr>\n    <tr>\n      <th>1</th>\n      <td>2023-01-02</td>\n      <td>30.790087</td>\n      <td>96.936318</td>\n    </tr>\n    <tr>\n      <th>2</th>\n      <td>2023-01-03</td>\n      <td>56.129619</td>\n      <td>69.070871</td>\n    </tr>\n    <tr>\n      <th>3</th>\n      <td>2023-01-04</td>\n      <td>61.603119</td>\n      <td>65.706889</td>\n    </tr>\n    <tr>\n      <th>4</th>\n      <td>2023-01-05</td>\n      <td>62.117789</td>\n      <td>43.799077</td>\n    </tr>\n    <tr>\n      <th>...</th>\n      <td>...</td>\n      <td>...</td>\n      <td>...</td>\n    </tr>\n    <tr>\n      <th>299</th>\n      <td>2023-10-27</td>\n      <td>66.764838</td>\n      <td>353.707500</td>\n    </tr>\n    <tr>\n      <th>300</th>\n      <td>2023-10-28</td>\n      <td>70.257443</td>\n      <td>284.911936</td>\n    </tr>\n    <tr>\n      <th>301</th>\n      <td>2023-10-29</td>\n      <td>51.029528</td>\n      <td>239.709040</td>\n    </tr>\n    <tr>\n      <th>302</th>\n      <td>2023-10-30</td>\n      <td>72.443507</td>\n      <td>301.616857</td>\n    </tr>\n    <tr>\n      <th>303</th>\n      <td>2023-10-31</td>\n      <td>36.906096</td>\n      <td>177.923453</td>\n    </tr>\n  </tbody>\n</table>\n<p>304 rows × 3 columns</p>\n</div>"
     },
     "execution_count": 65,
     "metadata": {},
     "output_type": "execute_result"
    }
   ],
   "source": [
    "historic_display = df_all_all[[\"Solar\", \"Eólica\"]]\n",
    "historic_display = historic_display.rename(columns={\"Solar\": \"Solar\", \"Eólica\": \"Wind\"})\n",
    "historic_display = historic_display.reset_index()\n",
    "historic_display.to_json(\"data/historic.json\", date_format='iso', orient='split')\n",
    "\n",
    "historic_display"
   ],
   "metadata": {
    "collapsed": false,
    "ExecuteTime": {
     "end_time": "2023-11-23T12:18:16.537756500Z",
     "start_time": "2023-11-23T12:18:16.423140700Z"
    }
   },
   "id": "3835acf1b69a3809"
  },
  {
   "cell_type": "markdown",
   "source": [
    "# Predictions"
   ],
   "metadata": {
    "collapsed": false
   },
   "id": "b9183a90e489bec3"
  },
  {
   "cell_type": "code",
   "execution_count": 104,
   "outputs": [],
   "source": [
    "names = [\"Barcelona\", \"Madrid\", \"Sevilla\", \"Bilbao\", \"A coruna\", \"Murcia\"]\n",
    "api_key = os.environ.get(\"API_worldweatheronline\")\n",
    "\n",
    "for name in names:\n",
    "    url = f\"https://api.worldweatheronline.com/premium/v1/weather.ashx?key={api_key}&q={name.lower()}&format=json&num_of_days=7\"\n",
    "\n",
    "    resp = requests.get(url)\n",
    "    resp = resp.json()\n",
    "\n",
    "    lst = []\n",
    "    for day in resp[\"data\"][\"weather\"]:\n",
    "\n",
    "        mean_wind = 0\n",
    "        for hour in day[\"hourly\"]:\n",
    "            mean_wind += float(hour[\"windspeedKmph\"])\n",
    "        mean_wind = mean_wind / len(day[\"hourly\"])\n",
    "\n",
    "        new_row = {\n",
    "            \"Date\": day.get(\"date\"),\n",
    "            \"City\": name,\n",
    "            \"Wind\": mean_wind,\n",
    "            \"Mean_tmp\": day.get(\"avgtempC\"),\n",
    "            \"Sun\": day.get(\"sunHour\"),\n",
    "\n",
    "            # \"Rain\": day.get(\"prec\"), \n",
    "            # \"presMax\": day.get(\"presMax\"),\n",
    "            # \"Max_tmp\": day.get(\"tmax\"),\n",
    "            # \"Min_tmp\": day.get(\"tmin\"),\n",
    "            # \"presMin\": day.get(\"presMin\")\n",
    "        }\n",
    "        lst.append(new_row)\n",
    "\n",
    "    df = pd.DataFrame(lst)\n",
    "\n",
    "    df[\"Wind\"] = df[\"Wind\"].astype(float)\n",
    "    df[\"Mean_tmp\"] = df[\"Mean_tmp\"].str.replace(',', '.').astype(float)\n",
    "    df[\"Sun\"] = df[\"Sun\"].str.replace(',', '.').astype(float)\n",
    "    df[\"Date\"] = pd.to_datetime(df[\"Date\"])\n",
    "    df.to_pickle(\"data/\" + name + \"_pred.pkl\")"
   ],
   "metadata": {
    "collapsed": false,
    "ExecuteTime": {
     "end_time": "2023-11-23T19:42:08.190129900Z",
     "start_time": "2023-11-23T19:42:06.518737700Z"
    }
   },
   "id": "8e4f5b0e60e19b6b"
  },
  {
   "cell_type": "markdown",
   "source": [
    "# Add it all togeather"
   ],
   "metadata": {
    "collapsed": false
   },
   "id": "9321ec07c297100"
  },
  {
   "cell_type": "code",
   "execution_count": 105,
   "outputs": [
    {
     "data": {
      "text/plain": "                 Wind   Mean_tmp       Sun\nDate                                      \n2023-11-23  10.979167  11.500000  9.550000\n2023-11-24   8.250000  11.833333  9.100000\n2023-11-25   6.500000  11.166667  9.016667\n2023-11-26   5.291667  10.833333  9.050000\n2023-11-27   8.604167  11.833333  8.783333\n2023-11-28   9.541667  12.333333  2.933333\n2023-11-29  10.312500  13.333333  5.116667",
      "text/html": "<div>\n<style scoped>\n    .dataframe tbody tr th:only-of-type {\n        vertical-align: middle;\n    }\n\n    .dataframe tbody tr th {\n        vertical-align: top;\n    }\n\n    .dataframe thead th {\n        text-align: right;\n    }\n</style>\n<table border=\"1\" class=\"dataframe\">\n  <thead>\n    <tr style=\"text-align: right;\">\n      <th></th>\n      <th>Wind</th>\n      <th>Mean_tmp</th>\n      <th>Sun</th>\n    </tr>\n    <tr>\n      <th>Date</th>\n      <th></th>\n      <th></th>\n      <th></th>\n    </tr>\n  </thead>\n  <tbody>\n    <tr>\n      <th>2023-11-23</th>\n      <td>10.979167</td>\n      <td>11.500000</td>\n      <td>9.550000</td>\n    </tr>\n    <tr>\n      <th>2023-11-24</th>\n      <td>8.250000</td>\n      <td>11.833333</td>\n      <td>9.100000</td>\n    </tr>\n    <tr>\n      <th>2023-11-25</th>\n      <td>6.500000</td>\n      <td>11.166667</td>\n      <td>9.016667</td>\n    </tr>\n    <tr>\n      <th>2023-11-26</th>\n      <td>5.291667</td>\n      <td>10.833333</td>\n      <td>9.050000</td>\n    </tr>\n    <tr>\n      <th>2023-11-27</th>\n      <td>8.604167</td>\n      <td>11.833333</td>\n      <td>8.783333</td>\n    </tr>\n    <tr>\n      <th>2023-11-28</th>\n      <td>9.541667</td>\n      <td>12.333333</td>\n      <td>2.933333</td>\n    </tr>\n    <tr>\n      <th>2023-11-29</th>\n      <td>10.312500</td>\n      <td>13.333333</td>\n      <td>5.116667</td>\n    </tr>\n  </tbody>\n</table>\n</div>"
     },
     "execution_count": 105,
     "metadata": {},
     "output_type": "execute_result"
    }
   ],
   "source": [
    "for name in names:\n",
    "    df = pd.read_pickle(name + \"_pred.pkl\")\n",
    "    df = df[[\"Date\", \"City\", \"Wind\", \"Mean_tmp\", \"Sun\"]]\n",
    "    df[\"City\"] = name\n",
    "    if name == \"Barcelona\":\n",
    "        df_wide = df\n",
    "    else:\n",
    "        df_wide = pd.concat([df_wide, df])\n",
    "\n",
    "df_all = df_wide[[\"Date\", \"Wind\", \"Mean_tmp\", \"Sun\"]].groupby(\"Date\").mean()\n",
    "# df_wide\n",
    "df_all.to_pickle(\"data/all_predictions.pkl\")\n",
    "df_all"
   ],
   "metadata": {
    "collapsed": false,
    "ExecuteTime": {
     "end_time": "2023-11-23T19:42:08.326762400Z",
     "start_time": "2023-11-23T19:42:08.207281400Z"
    }
   },
   "id": "997f87c29b2e4e0f"
  },
  {
   "cell_type": "code",
   "execution_count": null,
   "outputs": [],
   "source": [],
   "metadata": {
    "collapsed": false
   },
   "id": "83cfda676e9c57"
  }
 ],
 "metadata": {
  "kernelspec": {
   "display_name": "Python 3",
   "language": "python",
   "name": "python3"
  },
  "language_info": {
   "codemirror_mode": {
    "name": "ipython",
    "version": 2
   },
   "file_extension": ".py",
   "mimetype": "text/x-python",
   "name": "python",
   "nbconvert_exporter": "python",
   "pygments_lexer": "ipython2",
   "version": "2.7.6"
  }
 },
 "nbformat": 4,
 "nbformat_minor": 5
}
